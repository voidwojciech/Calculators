{
 "cells": [
  {
   "cell_type": "code",
   "execution_count": 1,
   "metadata": {
    "ExecuteTime": {
     "end_time": "2020-04-26T07:37:06.449059Z",
     "start_time": "2020-04-26T07:37:06.402190Z"
    }
   },
   "outputs": [
    {
     "name": "stdout",
     "output_type": "stream",
     "text": [
      "1 year:,  probability: 0.020\n",
      "2 years:, probability: 0.040\n",
      "3 years:, probability: 0.059\n",
      "4 years:, probability: 0.078\n",
      "5 years:, probability: 0.096\n",
      "6 years:, probability: 0.114\n",
      "7 years:, probability: 0.132\n",
      "8 years:, probability: 0.149\n",
      "9 years:, probability: 0.166\n",
      "10 years:, probability: 0.183\n",
      "11 years:, probability: 0.199\n",
      "12 years:, probability: 0.215\n",
      "13 years:, probability: 0.231\n",
      "14 years:, probability: 0.246\n",
      "15 years:, probability: 0.261\n",
      "16 years:, probability: 0.276\n",
      "17 years:, probability: 0.291\n",
      "18 years:, probability: 0.305\n",
      "19 years:, probability: 0.319\n",
      "20 years:, probability: 0.332\n",
      "21 years:, probability: 0.346\n",
      "22 years:, probability: 0.359\n",
      "23 years:, probability: 0.372\n",
      "24 years:, probability: 0.384\n",
      "25 years:, probability: 0.397\n",
      "26 years:, probability: 0.409\n",
      "27 years:, probability: 0.420\n",
      "28 years:, probability: 0.432\n",
      "29 years:, probability: 0.443\n",
      "30 years:, probability: 0.455\n",
      "31 years:, probability: 0.465\n",
      "32 years:, probability: 0.476\n",
      "33 years:, probability: 0.487\n",
      "34 years:, probability: 0.497\n",
      "35 years:, probability: 0.507\n",
      "36 years:, probability: 0.517\n",
      "37 years:, probability: 0.526\n",
      "38 years:, probability: 0.536\n",
      "39 years:, probability: 0.545\n",
      "40 years:, probability: 0.554\n",
      "41 years:, probability: 0.563\n",
      "42 years:, probability: 0.572\n",
      "43 years:, probability: 0.581\n",
      "44 years:, probability: 0.589\n",
      "45 years:, probability: 0.597\n",
      "46 years:, probability: 0.605\n",
      "47 years:, probability: 0.613\n",
      "48 years:, probability: 0.621\n",
      "49 years:, probability: 0.628\n",
      "50 years:, probability: 0.636\n",
      "\n",
      "The 50-year probability of exceedence is 0.636 (with a p=0.020 annual probability of exceedence)\n"
     ]
    }
   ],
   "source": [
    "\"\"\"\n",
    "Script for calculating the probability of an event in a longer time span,\n",
    "when one-year probability of an event is known.\n",
    "\n",
    "For example:\n",
    "Let's analyse the characteristic snow load (s_k) from EN 1991-1-3.\n",
    "Mean recurrence interval is 50 years, which is based on annual probability of\n",
    "exceedance of 0.02.\n",
    "Then you can calculate 50-year probability of exceedance using this script.\n",
    "\n",
    "Terminology: EN 1991-1-3, annex D\n",
    "\"\"\"\n",
    "\n",
    "# INPUT:\n",
    "p = 0.02  # one-year probability of occurrence\n",
    "end_year = 50  # time span analysed\n",
    "\n",
    "\n",
    "# OUTPUT:\n",
    "p_sum = 0\n",
    "for year in range(1, end_year+1):\n",
    "    p_sum = p_sum + p * (1 - p_sum)\n",
    "    if year == 1:\n",
    "        print(\"%.i year:,  probability: %.3f\" % (year, p_sum))\n",
    "    else:\n",
    "        print(\"%.i years:, probability: %.3f\" % (year, p_sum))\n",
    "\n",
    "\n",
    "print(\"\\nThe %.i-year probability of exceedance is %.3f \"\n",
    "      \"(with a p=%.3f annual probability of exceedance)\" % (end_year, p_sum, p))\n"
   ]
  },
  {
   "cell_type": "code",
   "execution_count": null,
   "metadata": {},
   "outputs": [],
   "source": []
  }
 ],
 "metadata": {
  "kernelspec": {
   "display_name": "Python 3",
   "language": "python",
   "name": "python3"
  },
  "language_info": {
   "codemirror_mode": {
    "name": "ipython",
    "version": 3
   },
   "file_extension": ".py",
   "mimetype": "text/x-python",
   "name": "python",
   "nbconvert_exporter": "python",
   "pygments_lexer": "ipython3",
   "version": "3.7.4"
  },
  "toc": {
   "base_numbering": 1,
   "nav_menu": {},
   "number_sections": true,
   "sideBar": true,
   "skip_h1_title": false,
   "title_cell": "Table of Contents",
   "title_sidebar": "Contents",
   "toc_cell": false,
   "toc_position": {},
   "toc_section_display": true,
   "toc_window_display": false
  },
  "varInspector": {
   "cols": {
    "lenName": 16,
    "lenType": 16,
    "lenVar": 40
   },
   "kernels_config": {
    "python": {
     "delete_cmd_postfix": "",
     "delete_cmd_prefix": "del ",
     "library": "var_list.py",
     "varRefreshCmd": "print(var_dic_list())"
    },
    "r": {
     "delete_cmd_postfix": ") ",
     "delete_cmd_prefix": "rm(",
     "library": "var_list.r",
     "varRefreshCmd": "cat(var_dic_list()) "
    }
   },
   "types_to_exclude": [
    "module",
    "function",
    "builtin_function_or_method",
    "instance",
    "_Feature"
   ],
   "window_display": false
  }
 },
 "nbformat": 4,
 "nbformat_minor": 2
}